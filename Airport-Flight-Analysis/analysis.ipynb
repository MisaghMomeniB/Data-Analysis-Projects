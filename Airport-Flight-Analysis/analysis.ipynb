{
 "cells": [
  {
   "cell_type": "code",
   "execution_count": null,
   "id": "289824e6-775d-4a5b-b40c-d804bde03ffa",
   "metadata": {},
   "outputs": [],
   "source": [
    "import pandas as pd\n",
    "import matplotlib.pyplot as plt\n",
    "import seaborn as sns"
   ]
  },
  {
   "cell_type": "code",
   "execution_count": null,
   "id": "70eb80f6-5bb7-4d61-9d2c-b2b2cc834fbf",
   "metadata": {},
   "outputs": [],
   "source": [
    "df = pd.read_csv('airport_flights.csv')"
   ]
  },
  {
   "cell_type": "code",
   "execution_count": null,
   "id": "85b187ed-da3b-462e-8347-63c7ce9678a5",
   "metadata": {},
   "outputs": [],
   "source": [
    "print(df.head())"
   ]
  },
  {
   "cell_type": "code",
   "execution_count": null,
   "id": "201dcd16-915c-44a3-ad3a-57952ba7a70d",
   "metadata": {},
   "outputs": [],
   "source": [
    "print(df.info())  # Data types and non-null counts\n",
    "print(df.describe())  # Summary statistics for numeric columns"
   ]
  }
 ],
 "metadata": {
  "kernelspec": {
   "display_name": "Python 3 (ipykernel)",
   "language": "python",
   "name": "python3"
  },
  "language_info": {
   "codemirror_mode": {
    "name": "ipython",
    "version": 3
   },
   "file_extension": ".py",
   "mimetype": "text/x-python",
   "name": "python",
   "nbconvert_exporter": "python",
   "pygments_lexer": "ipython3",
   "version": "3.12.7"
  }
 },
 "nbformat": 4,
 "nbformat_minor": 5
}
