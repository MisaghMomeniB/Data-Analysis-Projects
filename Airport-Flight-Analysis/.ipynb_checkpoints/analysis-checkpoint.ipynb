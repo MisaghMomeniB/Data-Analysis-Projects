{
 "cells": [
  {
   "cell_type": "code",
   "execution_count": null,
   "id": "289824e6-775d-4a5b-b40c-d804bde03ffa",
   "metadata": {},
   "outputs": [],
   "source": [
    "import pandas as pd\n",
    "import matplotlib.pyplot as plt\n",
    "import seaborn as sns"
   ]
  },
  {
   "cell_type": "code",
   "execution_count": null,
   "id": "70eb80f6-5bb7-4d61-9d2c-b2b2cc834fbf",
   "metadata": {},
   "outputs": [],
   "source": [
    "df = pd.read_csv('airport_flights.csv')"
   ]
  },
  {
   "cell_type": "code",
   "execution_count": null,
   "id": "85b187ed-da3b-462e-8347-63c7ce9678a5",
   "metadata": {},
   "outputs": [],
   "source": [
    "print(df.head())"
   ]
  },
  {
   "cell_type": "code",
   "execution_count": null,
   "id": "201dcd16-915c-44a3-ad3a-57952ba7a70d",
   "metadata": {},
   "outputs": [],
   "source": [
    "print(df.info())  # Data types and non-null counts\n",
    "print(df.describe())  # Summary statistics for numeric columns"
   ]
  },
  {
   "cell_type": "code",
   "execution_count": null,
   "id": "9fbacd31-adf9-4be2-a573-98204452f3ec",
   "metadata": {},
   "outputs": [],
   "source": [
    "print(df.isnull().sum())"
   ]
  },
  {
   "cell_type": "code",
   "execution_count": null,
   "id": "299968eb-6da3-4991-9ce1-7bb37b2a097f",
   "metadata": {},
   "outputs": [],
   "source": [
    "total_flights = df['Number of Flights'].sum()\n",
    "total_passengers = df['Number of Passengers'].sum()\n",
    "total_revenue = df['Amount'].sum()\n",
    "\n",
    "print(f\"Total Flights: {total_flights}\")\n",
    "print(f\"Total Passengers: {total_passengers}\")\n",
    "print(f\"Total Revenue: {total_revenue}\")"
   ]
  },
  {
   "cell_type": "code",
   "execution_count": null,
   "id": "4cdba4eb-e4d6-45c5-8c12-17f14b473c63",
   "metadata": {},
   "outputs": [],
   "source": [
    "plt.figure(figsize=(10,6))\n",
    "sns.barplot(x='Airport', y='Number of Flights', data=df)\n",
    "plt.xticks(rotation=90)\n",
    "plt.title('Number of Flights per Airport')\n",
    "plt.show()"
   ]
  },
  {
   "cell_type": "code",
   "execution_count": null,
   "id": "b16e3feb-cb47-4495-a61f-21ac0d88281b",
   "metadata": {},
   "outputs": [],
   "source": [
    "plt.figure(figsize=(10,6))\n",
    "sns.barplot(x='Airport', y='Number of Passengers', data=df)\n",
    "plt.xticks(rotation=90)\n",
    "plt.title('Number of Passengers per Airport')\n",
    "plt.show()"
   ]
  },
  {
   "cell_type": "code",
   "execution_count": null,
   "id": "2041a888-a002-43d1-bfa1-e8079ba66db6",
   "metadata": {},
   "outputs": [],
   "source": [
    "plt.figure(figsize=(10,6))\n",
    "sns.barplot(x='Airport', y='Amount', data=df)\n",
    "plt.xticks(rotation=90)\n",
    "plt.title('Revenue per Airport')\n",
    "plt.show()"
   ]
  },
  {
   "cell_type": "code",
   "execution_count": null,
   "id": "fc87412d-8ed3-4969-ab8d-50a513d94c03",
   "metadata": {},
   "outputs": [],
   "source": [
    "correlation_matrix = df[['Number of Flights', 'Amount', 'Number of Passengers']].corr()\n",
    "sns.heatmap(correlation_matrix, annot=True, cmap='coolwarm')\n",
    "plt.title('Correlation Heatmap')\n",
    "plt.show()"
   ]
  }
 ],
 "metadata": {
  "kernelspec": {
   "display_name": "Python 3",
   "language": "python",
   "name": "python3"
  },
  "language_info": {
   "codemirror_mode": {
    "name": "ipython",
    "version": 3
   },
   "file_extension": ".py",
   "mimetype": "text/x-python",
   "name": "python",
   "nbconvert_exporter": "python",
   "pygments_lexer": "ipython3",
   "version": "3.12.3"
  }
 },
 "nbformat": 4,
 "nbformat_minor": 5
}
