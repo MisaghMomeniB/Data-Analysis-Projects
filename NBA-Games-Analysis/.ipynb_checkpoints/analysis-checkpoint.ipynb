{
 "cells": [
  {
   "cell_type": "code",
   "execution_count": 1,
   "metadata": {},
   "outputs": [],
   "source": [
    "# Import necessary libraries for data manipulation, visualization, and analysis\n",
    "import pandas as pd  # For data handling and analysis\n",
    "import matplotlib.pyplot as plt  # For creating visualizations\n",
    "import seaborn as sns  # For advanced and aesthetically pleasing visualizations"
   ]
  },
  {
   "cell_type": "code",
   "execution_count": 2,
   "metadata": {},
   "outputs": [],
   "source": [
    "# Load the data into a Pandas DataFrame\n",
    "df = pd.read_csv('data.csv')  # Convert the string data into a DataFrame"
   ]
  },
  {
   "cell_type": "code",
   "execution_count": 4,
   "metadata": {},
   "outputs": [],
   "source": [
    "# Convert the 'Date' column to datetime format for easier date-based analysis\n",
    "df['Date'] = pd.to_datetime(df['Date'])"
   ]
  },
  {
   "cell_type": "code",
   "execution_count": 5,
   "metadata": {},
   "outputs": [],
   "source": [
    "# Add a new column 'Home Win' to indicate whether the home team won the game\n",
    "df['Home Win'] = df['Winner'] == df['Home Team']"
   ]
  },
  {
   "cell_type": "code",
   "execution_count": null,
   "metadata": {},
   "outputs": [],
   "source": [
    "# Display basic statistics for numerical columns in the dataset\n",
    "print(\"Basic Statistics:\")\n",
    "print(df.describe())  # Provides summary statistics like mean, std, min, max, etc."
   ]
  },
  {
   "cell_type": "code",
   "execution_count": null,
   "metadata": {},
   "outputs": [],
   "source": [
    "# Calculate the number of wins for each team (both home and away games)\n",
    "wins_by_team = pd.concat([df['Home Team'][df['Home Win']], df['Away Team'][~df['Home Win']]]).value_counts()\n",
    "print(\"\\nNumber of Wins for Each Team:\")  # Print the win counts for each team\n",
    "print(wins_by_team)"
   ]
  },
  {
   "cell_type": "code",
   "execution_count": null,
   "metadata": {},
   "outputs": [],
   "source": [
    "# Calculate the average scores for home and away teams\n",
    "home_scores_avg = df['Home Score'].mean()  # Average score when playing at home\n",
    "away_scores_avg = df['Away Score'].mean()  # Average score when playing away\n",
    "print(f\"\\nAverage Home Scores: {home_scores_avg:.2f}\")  # Print the average home score\n",
    "print(f\"Average Away Scores: {away_scores_avg:.2f}\")  # Print the average away score"
   ]
  },
  {
   "cell_type": "code",
   "execution_count": null,
   "metadata": {},
   "outputs": [],
   "source": [
    "# Visualize the number of wins for each team using a bar chart\n",
    "plt.figure(figsize=(12, 6))  # Set the figure size for better readability\n",
    "sns.barplot(x=wins_by_team.index, y=wins_by_team.values, palette=\"viridis\")  # Create a bar plot\n",
    "plt.title(\"Number of Wins for Each Team\")  # Add a title to the chart\n",
    "plt.xlabel(\"Team Name\")  # Label for the x-axis\n",
    "plt.ylabel(\"Number of Wins\")  # Label for the y-axis\n",
    "plt.xticks(rotation=45)  # Rotate x-axis labels for better visibility\n",
    "plt.tight_layout()  # Adjust layout to prevent overlapping\n",
    "plt.show()  # Display the chart"
   ]
  },
  {
   "cell_type": "code",
   "execution_count": null,
   "metadata": {},
   "outputs": [],
   "source": [
    "# Visualize the comparison of average home and away scores using a bar chart\n",
    "scores = pd.DataFrame({\n",
    "    'Type': ['Home', 'Away'],  # Define categories for the chart\n",
    "    'Average Score': [home_scores_avg, away_scores_avg]  # Provide average scores\n",
    "})\n",
    "sns.barplot(x='Type', y='Average Score', data=scores, palette=\"coolwarm\")  # Create the bar plot\n",
    "plt.title(\"Comparison of Average Home and Away Scores\")  # Add a title to the chart\n",
    "plt.ylabel(\"Average Score\")  # Label for the y-axis\n",
    "plt.show()  # Display the chart"
   ]
  }
 ],
 "metadata": {
  "kernelspec": {
   "display_name": "Python 3 (ipykernel)",
   "language": "python",
   "name": "python3"
  },
  "language_info": {
   "codemirror_mode": {
    "name": "ipython",
    "version": 3
   },
   "file_extension": ".py",
   "mimetype": "text/x-python",
   "name": "python",
   "nbconvert_exporter": "python",
   "pygments_lexer": "ipython3",
   "version": "3.12.3"
  }
 },
 "nbformat": 4,
 "nbformat_minor": 4
}
