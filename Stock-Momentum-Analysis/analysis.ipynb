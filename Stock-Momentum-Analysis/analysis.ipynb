{
 "cells": [
  {
   "cell_type": "code",
   "execution_count": 26,
   "metadata": {},
   "outputs": [],
   "source": [
    "import pandas as pd\n",
    "import numpy as np\n",
    "import matplotlib.pyplot as plt\n",
    "import seaborn as sns\n",
    "from statsmodels.tsa.arima.model import ARIMA\n",
    "import plotly.express as px"
   ]
  },
  {
   "cell_type": "code",
   "execution_count": 27,
   "metadata": {},
   "outputs": [],
   "source": [
    "# Step 1: Load the dataset\n",
    "df = pd.read_csv('data.csv')  # Replace with your actual CSV file path"
   ]
  },
  {
   "cell_type": "code",
   "execution_count": 28,
   "metadata": {},
   "outputs": [],
   "source": [
    "# Step 2: Convert 'Date' column to datetime format and handle any errors in conversion\n",
    "df['Date'] = pd.to_datetime(df['Date'], errors='coerce')"
   ]
  },
  {
   "cell_type": "code",
   "execution_count": 29,
   "metadata": {},
   "outputs": [],
   "source": [
    "# Step 3: Remove rows with invalid or missing 'Date' values\n",
    "df = df.dropna(subset=['Date'])\n"
   ]
  },
  {
   "cell_type": "code",
   "execution_count": 30,
   "metadata": {},
   "outputs": [],
   "source": [
    "# Step 4: Set 'Date' as the index and ensure there are no duplicate dates\n",
    "df.set_index('Date', inplace=True)\n",
    "df = df[~df.index.duplicated(keep='last')]"
   ]
  },
  {
   "cell_type": "code",
   "execution_count": 31,
   "metadata": {},
   "outputs": [],
   "source": [
    "# Step 5: Sort the DataFrame by Date (ascending order)\n",
    "df.sort_index(inplace=True)"
   ]
  },
  {
   "cell_type": "code",
   "execution_count": null,
   "metadata": {},
   "outputs": [],
   "source": [
    "# Step 6: Forward fill missing values in the dataset (e.g., for missing stock prices)\n",
    "df.fillna(method='ffill', inplace=True)"
   ]
  },
  {
   "cell_type": "code",
   "execution_count": null,
   "metadata": {},
   "outputs": [],
   "source": [
    "# Data Overview\n",
    "print(\"Data Overview:\")\n",
    "print(df.head())"
   ]
  },
  {
   "cell_type": "code",
   "execution_count": null,
   "metadata": {},
   "outputs": [],
   "source": [
    "# Step 7: Descriptive Statistics\n",
    "print(\"\\nDescriptive Statistics:\")\n",
    "print(df.describe())"
   ]
  },
  {
   "cell_type": "code",
   "execution_count": 35,
   "metadata": {},
   "outputs": [],
   "source": [
    "# Step 8: Calculate daily returns (percentage change from previous day)\n",
    "df['Daily Return'] = df['Close'].pct_change()"
   ]
  },
  {
   "cell_type": "code",
   "execution_count": 36,
   "metadata": {},
   "outputs": [],
   "source": [
    "# Step 9: Calculate MACD (Moving Average Convergence Divergence) and Signal Line\n",
    "short_ema = df['Close'].ewm(span=12, adjust=False).mean()\n",
    "long_ema = df['Close'].ewm(span=26, adjust=False).mean()\n",
    "df['MACD'] = short_ema - long_ema\n",
    "df['Signal Line'] = df['MACD'].ewm(span=9, adjust=False).mean()"
   ]
  },
  {
   "cell_type": "code",
   "execution_count": 37,
   "metadata": {},
   "outputs": [],
   "source": [
    "# Step 10: Calculate Bollinger Bands (upper and lower bands for volatility)\n",
    "rolling_mean = df['Close'].rolling(window=20).mean()\n",
    "rolling_std = df['Close'].rolling(window=20).std()\n",
    "df['Upper Band'] = rolling_mean + (rolling_std * 2)\n",
    "df['Lower Band'] = rolling_mean - (rolling_std * 2)"
   ]
  },
  {
   "cell_type": "code",
   "execution_count": 38,
   "metadata": {},
   "outputs": [],
   "source": [
    "# Step 11: Calculate RSI (Relative Strength Index)\n",
    "delta = df['Close'].diff(1)\n",
    "gain = delta.where(delta > 0, 0)\n",
    "loss = -delta.where(delta < 0, 0)\n",
    "avg_gain = gain.rolling(window=14).mean()\n",
    "avg_loss = loss.rolling(window=14).mean()\n",
    "rs = avg_gain / avg_loss\n",
    "df['RSI'] = 100 - (100 / (1 + rs))"
   ]
  },
  {
   "cell_type": "code",
   "execution_count": 39,
   "metadata": {},
   "outputs": [],
   "source": [
    "# Step 12: Calculate Exponential Moving Average (EMA) for 50 and 200 periods\n",
    "df['50-day EMA'] = df['Close'].ewm(span=50, adjust=False).mean()\n",
    "df['200-day EMA'] = df['Close'].ewm(span=200, adjust=False).mean()"
   ]
  },
  {
   "cell_type": "code",
   "execution_count": null,
   "metadata": {},
   "outputs": [],
   "source": [
    "# Step 13: Portfolio Analysis (Sharpe Ratio)\n",
    "returns = df['Daily Return'].mean() * 252  # Annualized return\n",
    "portfolio_risk = df['Daily Return'].std() * np.sqrt(252)  # Annualized risk (volatility)\n",
    "sharpe_ratio = returns / portfolio_risk  # Sharpe ratio: return / risk\n",
    "print(f\"\\nPortfolio Sharpe Ratio: {sharpe_ratio}\")"
   ]
  },
  {
   "cell_type": "code",
   "execution_count": null,
   "metadata": {},
   "outputs": [],
   "source": [
    "# Step 14: ARIMA Forecasting (predicting future stock prices)\n",
    "model = ARIMA(df['Close'], order=(5, 1, 0))  # ARIMA model (example order, adjust based on ACF/PACF)\n",
    "model_fit = model.fit()\n",
    "forecast = model_fit.forecast(steps=10)  # Forecast the next 10 days\n",
    "print(\"\\nARIMA Forecasting (Next 10 Days):\")\n",
    "print(forecast)"
   ]
  },
  {
   "cell_type": "code",
   "execution_count": 42,
   "metadata": {},
   "outputs": [],
   "source": [
    "# Step 15: Monte Carlo Simulation for Stock Prices\n",
    "num_simulations = 1000  # Number of simulations\n",
    "num_days = 252  # 1 year of trading days\n",
    "simulated_prices = np.zeros((num_simulations, num_days))"
   ]
  },
  {
   "cell_type": "code",
   "execution_count": 43,
   "metadata": {},
   "outputs": [],
   "source": [
    "# Simulate price movements based on daily returns\n",
    "for i in range(num_simulations):\n",
    "    daily_returns = np.random.normal(df['Daily Return'].mean(), df['Daily Return'].std(), num_days)\n",
    "    price_series = df['Close'].iloc[-1] * (1 + daily_returns).cumprod()  # Apply daily returns to initial price\n",
    "    simulated_prices[i] = price_series"
   ]
  },
  {
   "cell_type": "code",
   "execution_count": null,
   "metadata": {},
   "outputs": [],
   "source": [
    "# Step 16: Visualize Monte Carlo Simulation results\n",
    "plt.figure(figsize=(14, 7))\n",
    "plt.plot(simulated_prices.T, color='blue', alpha=0.1)\n",
    "plt.title(\"Monte Carlo Simulation of Stock Prices\")\n",
    "plt.xlabel(\"Days\")\n",
    "plt.ylabel(\"Stock Price ($)\")\n",
    "plt.show()"
   ]
  },
  {
   "cell_type": "code",
   "execution_count": 45,
   "metadata": {},
   "outputs": [],
   "source": [
    "# Step 17: Backtesting a Moving Average Crossover Strategy\n",
    "df['7-day MA'] = df['Close'].rolling(window=7).mean()\n",
    "df['30-day MA'] = df['Close'].rolling(window=30).mean()"
   ]
  },
  {
   "cell_type": "code",
   "execution_count": null,
   "metadata": {},
   "outputs": [],
   "source": [
    "# Generate buy/sell signals based on the crossover strategy\n",
    "df['Signal'] = 0\n",
    "df['Signal'][df['7-day MA'] > df['30-day MA']] = 1  # Buy signal: 7-day MA crosses above 30-day MA\n",
    "df['Signal'][df['7-day MA'] < df['30-day MA']] = -1  # Sell signal: 7-day MA crosses below 30-day MA"
   ]
  },
  {
   "cell_type": "code",
   "execution_count": 47,
   "metadata": {},
   "outputs": [],
   "source": [
    "# Calculate strategy returns\n",
    "df['Strategy Return'] = df['Daily Return'] * df['Signal'].shift(1)  # Lagging signal by 1 day for correct backtest\n",
    "df['Cumulative Strategy Return'] = (1 + df['Strategy Return']).cumprod() - 1  # Cumulative return of the strategy\n"
   ]
  },
  {
   "cell_type": "code",
   "execution_count": null,
   "metadata": {},
   "outputs": [],
   "source": [
    "# Step 18: Visualize Cumulative Strategy Return vs. Market Return\n",
    "plt.figure(figsize=(14, 7))\n",
    "sns.lineplot(x=df.index, y=df['Cumulative Strategy Return'], label='Strategy Return')\n",
    "sns.lineplot(x=df.index, y=(1 + df['Daily Return']).cumprod() - 1, label='Market Return')\n",
    "plt.title(\"Cumulative Returns: Strategy vs. Market\")\n",
    "plt.xlabel(\"Date\")\n",
    "plt.ylabel(\"Cumulative Return\")\n",
    "plt.legend()\n",
    "plt.xticks(rotation=45)\n",
    "plt.show()"
   ]
  },
  {
   "cell_type": "code",
   "execution_count": null,
   "metadata": {},
   "outputs": [],
   "source": [
    "# Step 19: Plot Technical Indicators (RSI and MACD)\n",
    "plt.figure(figsize=(14, 7))"
   ]
  },
  {
   "cell_type": "code",
   "execution_count": null,
   "metadata": {},
   "outputs": [],
   "source": [
    "# Step 20: Interactive Visualization with Plotly for Closing Price and Volume\n",
    "fig1 = px.line(df, x=df.index, y='Close', title='Stock Prices Over Time', color='Symbol')\n",
    "fig1.show()\n",
    "\n",
    "fig2 = px.line(df, x=df.index, y='Volume', title='Trading Volume Over Time', color='Symbol')\n",
    "fig2.show()"
   ]
  },
  {
   "cell_type": "code",
   "execution_count": null,
   "metadata": {},
   "outputs": [],
   "source": [
    "# Step 21: Save the analyzed data to a new CSV file\n",
    "df.to_csv(\"analyzed_stock_data.csv\")"
   ]
  },
  {
   "cell_type": "code",
   "execution_count": null,
   "metadata": {},
   "outputs": [],
   "source": [
    "print(\"\\nAnalysis Complete. The data has been saved as 'analyzed_stock_data.csv'.\")"
   ]
  }
 ],
 "metadata": {
  "kernelspec": {
   "display_name": "venv",
   "language": "python",
   "name": "python3"
  },
  "language_info": {
   "codemirror_mode": {
    "name": "ipython",
    "version": 3
   },
   "file_extension": ".py",
   "mimetype": "text/x-python",
   "name": "python",
   "nbconvert_exporter": "python",
   "pygments_lexer": "ipython3",
   "version": "3.12.7"
  }
 },
 "nbformat": 4,
 "nbformat_minor": 2
}
