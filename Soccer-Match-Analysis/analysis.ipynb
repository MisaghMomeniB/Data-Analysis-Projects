{
 "cells": [
  {
   "cell_type": "markdown",
   "id": "2a1f9fab-ede8-4a1a-add2-43086e0ef74a",
   "metadata": {},
   "source": [
    "# Loading and Preprocessing the Data"
   ]
  },
  {
   "cell_type": "code",
   "execution_count": 1,
   "id": "31f53c26-a3b4-4da8-a663-50ac6467d718",
   "metadata": {},
   "outputs": [],
   "source": [
    "import pandas as pd\n",
    "from sklearn.preprocessing import LabelEncoder"
   ]
  },
  {
   "cell_type": "code",
   "execution_count": 2,
   "id": "1ee14111-4f4f-424a-b22a-40c5676140c2",
   "metadata": {},
   "outputs": [],
   "source": [
    "df = pd.read_csv(\"soccer_matches.csv\")"
   ]
  },
  {
   "cell_type": "code",
   "execution_count": null,
   "id": "a5862147-e07a-42e3-b466-606b114fe652",
   "metadata": {},
   "outputs": [],
   "source": []
  }
 ],
 "metadata": {
  "kernelspec": {
   "display_name": "Data-Analysis",
   "language": "python",
   "name": "data-analysis"
  },
  "language_info": {
   "codemirror_mode": {
    "name": "ipython",
    "version": 3
   },
   "file_extension": ".py",
   "mimetype": "text/x-python",
   "name": "python",
   "nbconvert_exporter": "python",
   "pygments_lexer": "ipython3",
   "version": "3.12.3"
  }
 },
 "nbformat": 4,
 "nbformat_minor": 5
}
