{
 "cells": [
  {
   "cell_type": "markdown",
   "id": "2a1f9fab-ede8-4a1a-add2-43086e0ef74a",
   "metadata": {},
   "source": [
    "# Loading and Preprocessing the Data"
   ]
  },
  {
   "cell_type": "code",
   "execution_count": 1,
   "id": "31f53c26-a3b4-4da8-a663-50ac6467d718",
   "metadata": {},
   "outputs": [],
   "source": [
    "import pandas as pd\n",
    "from sklearn.preprocessing import LabelEncoder"
   ]
  },
  {
   "cell_type": "code",
   "execution_count": 2,
   "id": "1ee14111-4f4f-424a-b22a-40c5676140c2",
   "metadata": {},
   "outputs": [],
   "source": [
    "df = pd.read_csv(\"soccer_matches.csv\")"
   ]
  },
  {
   "cell_type": "code",
   "execution_count": 3,
   "id": "a5862147-e07a-42e3-b466-606b114fe652",
   "metadata": {},
   "outputs": [
    {
     "name": "stdout",
     "output_type": "stream",
     "text": [
      "   match_id        date      home_team          away_team  home_goals  \\\n",
      "0         1  2023-01-01  Bayern Munich            Chelsea           1   \n",
      "1         2  2023-01-02  Bayern Munich           Dortmund           0   \n",
      "2         3  2023-01-03       Juventus      Bayern Munich           4   \n",
      "3         4  2023-01-04        Arsenal      Bayern Munich           4   \n",
      "4         5  2023-01-05      Liverpool  Manchester United           0   \n",
      "\n",
      "   away_goals  possession_home  possession_away  shots_home  shots_away  \\\n",
      "0           2               56               53          18           9   \n",
      "1           2               53               53          18          16   \n",
      "2           5               46               47          11          17   \n",
      "3           2               48               60          12           6   \n",
      "4           3               50               41          10          19   \n",
      "\n",
      "   passes_home  passes_away  \n",
      "0          323          451  \n",
      "1          425          679  \n",
      "2          613          692  \n",
      "3          352          602  \n",
      "4          614          593  \n",
      "<class 'pandas.core.frame.DataFrame'>\n",
      "RangeIndex: 100 entries, 0 to 99\n",
      "Data columns (total 12 columns):\n",
      " #   Column           Non-Null Count  Dtype \n",
      "---  ------           --------------  ----- \n",
      " 0   match_id         100 non-null    int64 \n",
      " 1   date             100 non-null    object\n",
      " 2   home_team        100 non-null    object\n",
      " 3   away_team        100 non-null    object\n",
      " 4   home_goals       100 non-null    int64 \n",
      " 5   away_goals       100 non-null    int64 \n",
      " 6   possession_home  100 non-null    int64 \n",
      " 7   possession_away  100 non-null    int64 \n",
      " 8   shots_home       100 non-null    int64 \n",
      " 9   shots_away       100 non-null    int64 \n",
      " 10  passes_home      100 non-null    int64 \n",
      " 11  passes_away      100 non-null    int64 \n",
      "dtypes: int64(9), object(3)\n",
      "memory usage: 9.5+ KB\n",
      "None\n"
     ]
    }
   ],
   "source": [
    "print(df.head())\n",
    "print(df.info())"
   ]
  },
  {
   "cell_type": "code",
   "execution_count": 4,
   "id": "71043cf4-b5bd-4b11-bc78-9faac6cc2fe3",
   "metadata": {},
   "outputs": [],
   "source": [
    "label_encoder = LabelEncoder()\n",
    "df['home_team_encoded'] = label_encoder.fit_transform(df['home_team'])\n",
    "df['away_team_encoded'] = label_encoder.fit_transform(df['away_team'])"
   ]
  },
  {
   "cell_type": "code",
   "execution_count": 5,
   "id": "a6519dc7-d296-4944-bfa2-2dd61230d118",
   "metadata": {},
   "outputs": [],
   "source": [
    "df['result'] = df.apply(lambda row: 1 if row['home_goals'] > row['away_goals'] else (0 if row['home_goals'] == row['away_goals'] else -1), axis=1)"
   ]
  },
  {
   "cell_type": "code",
   "execution_count": null,
   "id": "5effa6bd-e782-4897-b003-f3d481b94ab8",
   "metadata": {},
   "outputs": [],
   "source": [
    "print(df[['home_team', 'away_team', 'home_team_encoded', 'away_team_encoded', 'result']].head())"
   ]
  },
  {
   "cell_type": "markdown",
   "id": "af06c7c0-32b2-46e9-8843-a0919aa5f532",
   "metadata": {},
   "source": [
    "# Exploratory Data Analysis (EDA)"
   ]
  },
  {
   "cell_type": "code",
   "execution_count": 6,
   "id": "1be2de2a-91ad-43f3-8da9-d9400270fc1f",
   "metadata": {},
   "outputs": [],
   "source": [
    "import matplotlib.pyplot as plt\n",
    "import seaborn as sns"
   ]
  },
  {
   "cell_type": "code",
   "execution_count": null,
   "id": "c9181229-ba74-44dc-8ede-a09e4148d620",
   "metadata": {},
   "outputs": [],
   "source": []
  }
 ],
 "metadata": {
  "kernelspec": {
   "display_name": "Data-Analysis",
   "language": "python",
   "name": "data-analysis"
  },
  "language_info": {
   "codemirror_mode": {
    "name": "ipython",
    "version": 3
   },
   "file_extension": ".py",
   "mimetype": "text/x-python",
   "name": "python",
   "nbconvert_exporter": "python",
   "pygments_lexer": "ipython3",
   "version": "3.12.3"
  }
 },
 "nbformat": 4,
 "nbformat_minor": 5
}
