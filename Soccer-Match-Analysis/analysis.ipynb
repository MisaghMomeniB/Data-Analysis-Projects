{
 "cells": [
  {
   "cell_type": "markdown",
   "id": "2a1f9fab-ede8-4a1a-add2-43086e0ef74a",
   "metadata": {},
   "source": [
    "# Loading and Preprocessing the Data"
   ]
  },
  {
   "cell_type": "code",
   "execution_count": null,
   "id": "31f53c26-a3b4-4da8-a663-50ac6467d718",
   "metadata": {},
   "outputs": [],
   "source": [
    "import pandas as pd\n",
    "from sklearn.preprocessing import LabelEncoder"
   ]
  },
  {
   "cell_type": "code",
   "execution_count": null,
   "id": "1ee14111-4f4f-424a-b22a-40c5676140c2",
   "metadata": {},
   "outputs": [],
   "source": [
    "df = pd.read_csv(\"soccer_matches.csv\")"
   ]
  },
  {
   "cell_type": "code",
   "execution_count": null,
   "id": "a5862147-e07a-42e3-b466-606b114fe652",
   "metadata": {},
   "outputs": [],
   "source": [
    "print(df.head())\n",
    "print(df.info())"
   ]
  },
  {
   "cell_type": "code",
   "execution_count": null,
   "id": "71043cf4-b5bd-4b11-bc78-9faac6cc2fe3",
   "metadata": {},
   "outputs": [],
   "source": [
    "label_encoder = LabelEncoder()\n",
    "df['home_team_encoded'] = label_encoder.fit_transform(df['home_team'])\n",
    "df['away_team_encoded'] = label_encoder.fit_transform(df['away_team'])"
   ]
  },
  {
   "cell_type": "code",
   "execution_count": null,
   "id": "a6519dc7-d296-4944-bfa2-2dd61230d118",
   "metadata": {},
   "outputs": [],
   "source": [
    "df['result'] = df.apply(lambda row: 1 if row['home_goals'] > row['away_goals'] else (0 if row['home_goals'] == row['away_goals'] else -1), axis=1)"
   ]
  },
  {
   "cell_type": "code",
   "execution_count": null,
   "id": "5effa6bd-e782-4897-b003-f3d481b94ab8",
   "metadata": {},
   "outputs": [],
   "source": [
    "print(df[['home_team', 'away_team', 'home_team_encoded', 'away_team_encoded', 'result']].head())"
   ]
  },
  {
   "cell_type": "markdown",
   "id": "af06c7c0-32b2-46e9-8843-a0919aa5f532",
   "metadata": {},
   "source": [
    "# Exploratory Data Analysis (EDA)"
   ]
  },
  {
   "cell_type": "code",
   "execution_count": null,
   "id": "1be2de2a-91ad-43f3-8da9-d9400270fc1f",
   "metadata": {},
   "outputs": [],
   "source": [
    "import matplotlib.pyplot as plt\n",
    "import seaborn as sns"
   ]
  },
  {
   "cell_type": "code",
   "execution_count": null,
   "id": "c9181229-ba74-44dc-8ede-a09e4148d620",
   "metadata": {},
   "outputs": [],
   "source": [
    "sns.set(style=\"whitegrid\")"
   ]
  },
  {
   "cell_type": "code",
   "execution_count": null,
   "id": "f4984c74-ea27-4a58-9fd3-adb0906e30cb",
   "metadata": {},
   "outputs": [],
   "source": [
    "fig, axes = plt.subplots(2, 2, figsize=(14, 10))"
   ]
  },
  {
   "cell_type": "code",
   "execution_count": null,
   "id": "6691d334-174e-4a33-b3c9-565ab4da9deb",
   "metadata": {},
   "outputs": [],
   "source": [
    "sns.boxplot(x='result', y='shots_home', data=df, ax=axes[0, 0])\n",
    "sns.boxplot(x='result', y='shots_away', data=df, ax=axes[0, 1])\n",
    "axes[0, 0].set_title('Home Team Shots vs. Match Result')\n",
    "axes[0, 1].set_title('Away Team Shots vs. Match Result')"
   ]
  },
  {
   "cell_type": "code",
   "execution_count": null,
   "id": "56de60a4-9169-406a-a4f8-6cacc5158cef",
   "metadata": {},
   "outputs": [],
   "source": [
    "sns.boxplot(x='result', y='possession_home', data=df, ax=axes[1, 0])\n",
    "sns.boxplot(x='result', y='possession_away', data=df, ax=axes[1, 1])\n",
    "axes[1, 0].set_title('Home Team Possession vs. Match Result')\n",
    "axes[1, 1].set_title('Away Team Possession vs. Match Result')"
   ]
  },
  {
   "cell_type": "code",
   "execution_count": null,
   "id": "dee3a792-d525-43ad-8b3a-0723a3d37e29",
   "metadata": {},
   "outputs": [],
   "source": [
    "plt.tight_layout()\n",
    "plt.show()"
   ]
  },
  {
   "cell_type": "markdown",
   "id": "130585c7-f3ba-4ba0-8a02-cf884961bd48",
   "metadata": {},
   "source": [
    "#  Preparing Data for Modeling"
   ]
  },
  {
   "cell_type": "code",
   "execution_count": null,
   "id": "554570e1-d835-4516-8779-223618e2f2c0",
   "metadata": {},
   "outputs": [],
   "source": [
    "from sklearn.model_selection import train_test_split\n",
    "from sklearn.preprocessing import StandardScaler"
   ]
  },
  {
   "cell_type": "code",
   "execution_count": null,
   "id": "694e1589-96ae-476d-a947-5794905f0abf",
   "metadata": {},
   "outputs": [],
   "source": [
    "X = df[['home_team_encoded', 'away_team_encoded', 'possession_home', 'possession_away', 'shots_home', 'shots_away', 'passes_home', 'passes_away']]\n",
    "y = df['result']"
   ]
  },
  {
   "cell_type": "code",
   "execution_count": null,
   "id": "5b45b6bd-cdff-4b0d-a011-4e7dd3f354fa",
   "metadata": {},
   "outputs": [],
   "source": [
    "X_train, X_test, y_train, y_test = train_test_split(X, y, test_size=0.2, random_state=42)"
   ]
  },
  {
   "cell_type": "code",
   "execution_count": null,
   "id": "110097df-e48c-40cf-a3fb-80406a92f0aa",
   "metadata": {},
   "outputs": [],
   "source": [
    "scaler = StandardScaler()\n",
    "X_train_scaled = scaler.fit_transform(X_train)\n",
    "X_test_scaled = scaler.transform(X_test)"
   ]
  },
  {
   "cell_type": "markdown",
   "id": "21c06549-c7d4-4275-89ac-1cbe3e3819c0",
   "metadata": {},
   "source": [
    "# Model Building and Prediction"
   ]
  },
  {
   "cell_type": "code",
   "execution_count": null,
   "id": "12c68a5b-fe76-4398-841b-8c3653b2d4b7",
   "metadata": {},
   "outputs": [],
   "source": [
    "from sklearn.ensemble import RandomForestClassifier\n",
    "from sklearn.metrics import accuracy_score, classification_report, confusion_matrix"
   ]
  },
  {
   "cell_type": "code",
   "execution_count": null,
   "id": "36b20e69-1593-4101-b269-40f55b17ff84",
   "metadata": {},
   "outputs": [],
   "source": [
    "model = RandomForestClassifier(n_estimators=100, random_state=42)\n",
    "model.fit(X_train_scaled, y_train)"
   ]
  },
  {
   "cell_type": "code",
   "execution_count": null,
   "id": "f1d6c973-a4d5-4fe2-8d3e-eab1049b83cb",
   "metadata": {},
   "outputs": [],
   "source": [
    "y_pred = model.predict(X_test_scaled)"
   ]
  },
  {
   "cell_type": "code",
   "execution_count": null,
   "id": "8cd7ed50-99a4-4dce-9e8d-27d5e86952db",
   "metadata": {},
   "outputs": [],
   "source": [
    "accuracy = accuracy_score(y_test, y_pred)\n",
    "print(f\"Accuracy: {accuracy * 100:.2f}%\")\n",
    "print(\"\\nClassification Report:\")\n",
    "print(classification_report(y_test, y_pred))\n",
    "print(\"\\nConfusion Matrix:\")\n",
    "print(confusion_matrix(y_test, y_pred))"
   ]
  },
  {
   "cell_type": "markdown",
   "id": "5745fc2c-baea-4a74-aaf8-8910fb0181c7",
   "metadata": {},
   "source": [
    "# Displaying Results and Model Evaluation"
   ]
  },
  {
   "cell_type": "code",
   "execution_count": null,
   "id": "0a23be6b-41b7-4bdd-9f5e-f05d8b12685e",
   "metadata": {},
   "outputs": [],
   "source": [
    "import seaborn as sns\n",
    "import matplotlib.pyplot as plt"
   ]
  },
  {
   "cell_type": "code",
   "execution_count": null,
   "id": "7b23ce6a-c93e-4555-912c-b982b62d5509",
   "metadata": {},
   "outputs": [],
   "source": [
    "cm = confusion_matrix(y_test, y_pred)\n",
    "sns.heatmap(cm, annot=True, fmt=\"d\", cmap=\"Blues\", xticklabels=[\"Home Win\", \"Draw\", \"Away Win\"], yticklabels=[\"Home Win\", \"Draw\", \"Away Win\"])\n",
    "plt.title(\"Confusion Matrix\")\n",
    "plt.xlabel(\"Predicted\")\n",
    "plt.ylabel(\"True\")\n",
    "plt.show()"
   ]
  }
 ],
 "metadata": {
  "kernelspec": {
   "display_name": "Data-Analysis",
   "language": "python",
   "name": "data-analysis"
  },
  "language_info": {
   "codemirror_mode": {
    "name": "ipython",
    "version": 3
   },
   "file_extension": ".py",
   "mimetype": "text/x-python",
   "name": "python",
   "nbconvert_exporter": "python",
   "pygments_lexer": "ipython3",
   "version": "3.12.3"
  }
 },
 "nbformat": 4,
 "nbformat_minor": 5
}
