{
 "cells": [
  {
   "cell_type": "code",
   "execution_count": null,
   "id": "371eebbf-0ce7-4caa-94e7-a1562ea14179",
   "metadata": {},
   "outputs": [],
   "source": [
    "import pandas as pd\n",
    "import matplotlib.pyplot as plt\n",
    "import seaborn as sns"
   ]
  },
  {
   "cell_type": "code",
   "execution_count": null,
   "id": "ce3784ba-d0d3-45ff-863c-207613e6114c",
   "metadata": {},
   "outputs": [],
   "source": [
    "file_path = \"./big_social_media_data.csv\"\n",
    "df = pd.read_csv(file_path)"
   ]
  },
  {
   "cell_type": "code",
   "execution_count": null,
   "id": "632c7b76-9225-4bed-9bdc-ea26150846b1",
   "metadata": {},
   "outputs": [],
   "source": [
    "print(df.info())"
   ]
  },
  {
   "cell_type": "code",
   "execution_count": null,
   "id": "d08d248b-6dfa-43ae-90b4-c87290921f7c",
   "metadata": {},
   "outputs": [],
   "source": [
    "print(df.describe())"
   ]
  },
  {
   "cell_type": "code",
   "execution_count": null,
   "id": "38015f87-b614-467f-9666-17c299c47095",
   "metadata": {},
   "outputs": [],
   "source": [
    "print(df.head())"
   ]
  },
  {
   "cell_type": "code",
   "execution_count": null,
   "id": "9c4829d0-c8f3-4317-8526-260aeb518645",
   "metadata": {},
   "outputs": [],
   "source": [
    "df['Sentiment'] = df['Content'].apply(lambda x: TextBlob(str(x)).sentiment.polarity)"
   ]
  },
  {
   "cell_type": "code",
   "execution_count": null,
   "id": "c1c01ffd-66bf-47b3-a9e6-28c6b4cf9234",
   "metadata": {},
   "outputs": [],
   "source": [
    "platform_sentiment_comparison = df.groupby('Platform')['Sentiment'].mean().sort_values()\n",
    "platform_sentiment_comparison.plot(kind='bar', figsize=(10, 6))\n",
    "plt.title('Average Sentiment per Platform')\n",
    "plt.xlabel('Platform')\n",
    "plt.ylabel('Average Sentiment')\n",
    "plt.show()"
   ]
  },
  {
   "cell_type": "code",
   "execution_count": null,
   "id": "aff27129-f2f3-423b-bc6d-8256154e622b",
   "metadata": {},
   "outputs": [],
   "source": [
    "def extract_hashtags(text):\n",
    "    return re.findall(r'#\\w+', text)\n",
    "\n",
    "all_hashtags = df['Hashtags'].dropna().apply(extract_hashtags).sum()\n",
    "hashtag_counts = Counter(all_hashtags)\n",
    "top_hashtags = hashtag_counts.most_common(10)\n",
    "print(\"Top 10 Hashtags:\", top_hashtags)"
   ]
  },
  {
   "cell_type": "code",
   "execution_count": null,
   "id": "26182577-66bf-46e4-a35a-6b8b433d3d01",
   "metadata": {},
   "outputs": [],
   "source": [
    "all_text = ' '.join(df['Content'].dropna())\n",
    "wordcloud = WordCloud(width=800, height=400, background_color='white').generate(all_text)\n",
    "\n",
    "plt.figure(figsize=(10, 6))\n",
    "plt.imshow(wordcloud, interpolation='bilinear')\n",
    "plt.axis('off')\n",
    "plt.title('Word Cloud of Post Content')\n",
    "plt.show()"
   ]
  },
  {
   "cell_type": "code",
   "execution_count": null,
   "id": "1a6ca835-6e28-4774-aee0-57113c7cf1f4",
   "metadata": {},
   "outputs": [],
   "source": [
    "df['Total Engagement'] = df['Likes'] + df['Shares']\n",
    "\n",
    "platform_engagement = df.groupby('Platform')['Total Engagement'].sum()\n",
    "platform_engagement.plot(kind='bar', figsize=(10, 6))\n",
    "plt.title('Total Engagement per Platform')\n",
    "plt.xlabel('Platform')\n",
    "plt.ylabel('Total Engagement')\n",
    "plt.show()"
   ]
  },
  {
   "cell_type": "code",
   "execution_count": null,
   "id": "cb9b80dc-a474-4f8b-ac77-9f4ce15de951",
   "metadata": {},
   "outputs": [],
   "source": [
    "user_post_count = df['User'].value_counts().head(10)\n",
    "user_post_count.plot(kind='bar', figsize=(10, 6))\n",
    "plt.title('Top 10 Active Users')\n",
    "plt.xlabel('User')\n",
    "plt.ylabel('Number of Posts')\n",
    "plt.show()"
   ]
  },
  {
   "cell_type": "code",
   "execution_count": null,
   "id": "8a958077-8114-47be-8dfb-993c6b0c0dd5",
   "metadata": {},
   "outputs": [],
   "source": [
    "correlation_matrix = df[['Likes', 'Shares', 'Comments']].corr()\n",
    "\n",
    "plt.figure(figsize=(8, 6))\n",
    "sns.heatmap(correlation_matrix, annot=True, cmap='coolwarm')\n",
    "plt.title('Correlation Matrix Between Engagement Metrics')\n",
    "plt.show()"
   ]
  },
  {
   "cell_type": "code",
   "execution_count": null,
   "id": "128655cc-1f50-48bf-98a1-57fe15b2f3c6",
   "metadata": {},
   "outputs": [],
   "source": [
    "location_counts = df['Location'].value_counts().head(10)\n",
    "location_counts.plot(kind='bar', figsize=(10, 6))\n",
    "plt.title('Top 10 Locations with Most Posts')\n",
    "plt.xlabel('Location')\n",
    "plt.ylabel('Number of Posts')\n",
    "plt.show()"
   ]
  },
  {
   "cell_type": "code",
   "execution_count": null,
   "id": "6b797765-198a-415f-871b-4d6087227788",
   "metadata": {},
   "outputs": [],
   "source": [
    "sns.boxplot(x='Platform', y='Total Engagement', data=df)\n",
    "plt.title('Engagement Distribution per Platform')\n",
    "plt.show()"
   ]
  }
 ],
 "metadata": {
  "kernelspec": {
   "display_name": "Python 3 (ipykernel)",
   "language": "python",
   "name": "python3"
  },
  "language_info": {
   "codemirror_mode": {
    "name": "ipython",
    "version": 3
   },
   "file_extension": ".py",
   "mimetype": "text/x-python",
   "name": "python",
   "nbconvert_exporter": "python",
   "pygments_lexer": "ipython3",
   "version": "3.13.2"
  }
 },
 "nbformat": 4,
 "nbformat_minor": 5
}
