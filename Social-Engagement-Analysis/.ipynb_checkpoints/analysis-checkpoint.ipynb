{
 "cells": [
  {
   "cell_type": "code",
   "execution_count": null,
   "id": "371eebbf-0ce7-4caa-94e7-a1562ea14179",
   "metadata": {},
   "outputs": [],
   "source": [
    "import pandas as pd\n",
    "import matplotlib.pyplot as plt\n",
    "import seaborn as sns"
   ]
  },
  {
   "cell_type": "code",
   "execution_count": null,
   "id": "ce3784ba-d0d3-45ff-863c-207613e6114c",
   "metadata": {},
   "outputs": [],
   "source": [
    "file_path = \"./big_social_media_data.csv\"\n",
    "df = pd.read_csv(file_path)"
   ]
  },
  {
   "cell_type": "code",
   "execution_count": null,
   "id": "632c7b76-9225-4bed-9bdc-ea26150846b1",
   "metadata": {},
   "outputs": [],
   "source": [
    "print(df.info())"
   ]
  },
  {
   "cell_type": "code",
   "execution_count": null,
   "id": "d08d248b-6dfa-43ae-90b4-c87290921f7c",
   "metadata": {},
   "outputs": [],
   "source": [
    "print(df.describe())"
   ]
  },
  {
   "cell_type": "code",
   "execution_count": null,
   "id": "38015f87-b614-467f-9666-17c299c47095",
   "metadata": {},
   "outputs": [],
   "source": [
    "print(df.head())"
   ]
  },
  {
   "cell_type": "code",
   "execution_count": null,
   "id": "9c4829d0-c8f3-4317-8526-260aeb518645",
   "metadata": {},
   "outputs": [],
   "source": [
    "df['Post_Date'] = pd.to_datetime(df['Post_Date'])"
   ]
  },
  {
   "cell_type": "code",
   "execution_count": null,
   "id": "c1c01ffd-66bf-47b3-a9e6-28c6b4cf9234",
   "metadata": {},
   "outputs": [],
   "source": [
    "platform_counts = df['Platform'].value_counts()"
   ]
  },
  {
   "cell_type": "code",
   "execution_count": null,
   "id": "aff27129-f2f3-423b-bc6d-8256154e622b",
   "metadata": {},
   "outputs": [],
   "source": [
    "plt.figure(figsize=(10, 6))\n",
    "sns.barplot(x=platform_counts.index, y=platform_counts.values)\n",
    "plt.title(\"Number of Posts per Platform\")\n",
    "plt.xlabel(\"Platform\")\n",
    "plt.ylabel(\"Number of Posts\")\n",
    "plt.xticks(rotation=45)  # Rotates labels for better readability\n",
    "plt.show()"
   ]
  },
  {
   "cell_type": "code",
   "execution_count": null,
   "id": "26182577-66bf-46e4-a35a-6b8b433d3d01",
   "metadata": {},
   "outputs": [],
   "source": [
    "platform_engagement = df.groupby('Platform')[['Likes', 'Comments', 'Shares', 'Views']].mean().reset_index()"
   ]
  },
  {
   "cell_type": "code",
   "execution_count": null,
   "id": "1a6ca835-6e28-4774-aee0-57113c7cf1f4",
   "metadata": {},
   "outputs": [],
   "source": [
    "plt.figure(figsize=(12, 6))\n",
    "sns.barplot(x=\"Platform\", y=\"Likes\", data=platform_engagement, color=\"blue\", label=\"Likes\")\n",
    "sns.barplot(x=\"Platform\", y=\"Comments\", data=platform_engagement, color=\"red\", label=\"Comments\", alpha=0.7)\n",
    "sns.barplot(x=\"Platform\", y=\"Shares\", data=platform_engagement, color=\"green\", label=\"Shares\", alpha=0.5)\n",
    "sns.barplot(x=\"Platform\", y=\"Views\", data=platform_engagement, color=\"orange\", label=\"Views\", alpha=0.3)"
   ]
  },
  {
   "cell_type": "code",
   "execution_count": null,
   "id": "cb9b80dc-a474-4f8b-ac77-9f4ce15de951",
   "metadata": {},
   "outputs": [],
   "source": [
    "user_post_count = df['User'].value_counts().head(10)\n",
    "user_post_count.plot(kind='bar', figsize=(10, 6))\n",
    "plt.title('Top 10 Active Users')\n",
    "plt.xlabel('User')\n",
    "plt.ylabel('Number of Posts')\n",
    "plt.show()"
   ]
  },
  {
   "cell_type": "code",
   "execution_count": null,
   "id": "8a958077-8114-47be-8dfb-993c6b0c0dd5",
   "metadata": {},
   "outputs": [],
   "source": [
    "plt.title(\"Average Engagement per Platform\")\n",
    "plt.xlabel(\"Platform\")\n",
    "plt.ylabel(\"Average Count\")\n",
    "plt.legend()\n",
    "plt.xticks(rotation=45)  # Rotates labels for better readability\n",
    "plt.show()"
   ]
  }
 ],
 "metadata": {
  "kernelspec": {
   "display_name": "Python 3 (ipykernel)",
   "language": "python",
   "name": "python3"
  },
  "language_info": {
   "codemirror_mode": {
    "name": "ipython",
    "version": 3
   },
   "file_extension": ".py",
   "mimetype": "text/x-python",
   "name": "python",
   "nbconvert_exporter": "python",
   "pygments_lexer": "ipython3",
   "version": "3.13.2"
  }
 },
 "nbformat": 4,
 "nbformat_minor": 5
}
