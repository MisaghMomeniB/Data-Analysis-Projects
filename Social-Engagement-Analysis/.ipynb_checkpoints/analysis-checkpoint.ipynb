{
 "cells": [
  {
   "cell_type": "code",
   "execution_count": null,
   "id": "371eebbf-0ce7-4caa-94e7-a1562ea14179",
   "metadata": {},
   "outputs": [],
   "source": [
    "import pandas as pd\n",
    "import matplotlib.pyplot as plt\n",
    "from textblob import TextBlob\n",
    "from collections import Counter\n",
    "import re\n",
    "from wordcloud import WordCloud\n",
    "import seaborn as sns"
   ]
  },
  {
   "cell_type": "code",
   "execution_count": null,
   "id": "ce3784ba-d0d3-45ff-863c-207613e6114c",
   "metadata": {},
   "outputs": [],
   "source": [
    "df = pd.read_csv('your_data.csv')"
   ]
  },
  {
   "cell_type": "code",
   "execution_count": null,
   "id": "632c7b76-9225-4bed-9bdc-ea26150846b1",
   "metadata": {},
   "outputs": [],
   "source": [
    "df['Date'] = pd.to_datetime(df['Date'])"
   ]
  },
  {
   "cell_type": "code",
   "execution_count": null,
   "id": "d08d248b-6dfa-43ae-90b4-c87290921f7c",
   "metadata": {},
   "outputs": [],
   "source": [
    "df.set_index('Date', inplace=True)"
   ]
  },
  {
   "cell_type": "code",
   "execution_count": null,
   "id": "38015f87-b614-467f-9666-17c299c47095",
   "metadata": {},
   "outputs": [],
   "source": [
    "monthly_counts = df.resample('M').size()\n",
    "monthly_counts.plot(kind='line', figsize=(10, 6))\n",
    "plt.title('Monthly Post Trend')\n",
    "plt.xlabel('Month')\n",
    "plt.ylabel('Number of Posts')\n",
    "plt.show()"
   ]
  },
  {
   "cell_type": "code",
   "execution_count": null,
   "id": "9c4829d0-c8f3-4317-8526-260aeb518645",
   "metadata": {},
   "outputs": [],
   "source": [
    "df['Sentiment'] = df['Content'].apply(lambda x: TextBlob(str(x)).sentiment.polarity)"
   ]
  },
  {
   "cell_type": "code",
   "execution_count": null,
   "id": "c1c01ffd-66bf-47b3-a9e6-28c6b4cf9234",
   "metadata": {},
   "outputs": [],
   "source": [
    "platform_sentiment_comparison = df.groupby('Platform')['Sentiment'].mean().sort_values()\n",
    "platform_sentiment_comparison.plot(kind='bar', figsize=(10, 6))\n",
    "plt.title('Average Sentiment per Platform')\n",
    "plt.xlabel('Platform')\n",
    "plt.ylabel('Average Sentiment')\n",
    "plt.show()"
   ]
  }
 ],
 "metadata": {
  "kernelspec": {
   "display_name": "Python 3 (ipykernel)",
   "language": "python",
   "name": "python3"
  },
  "language_info": {
   "codemirror_mode": {
    "name": "ipython",
    "version": 3
   },
   "file_extension": ".py",
   "mimetype": "text/x-python",
   "name": "python",
   "nbconvert_exporter": "python",
   "pygments_lexer": "ipython3",
   "version": "3.13.1"
  }
 },
 "nbformat": 4,
 "nbformat_minor": 5
}
