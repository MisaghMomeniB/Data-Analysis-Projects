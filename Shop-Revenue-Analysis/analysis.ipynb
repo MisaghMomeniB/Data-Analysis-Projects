{
 "cells": [
  {
   "cell_type": "code",
   "execution_count": null,
   "metadata": {
    "vscode": {
     "languageId": "plaintext"
    }
   },
   "outputs": [],
   "source": [
    "import pandas as pd\n",
    "import matplotlib.pyplot as plt\n",
    "import seaborn as sns"
   ]
  },
  {
   "cell_type": "code",
   "execution_count": null,
   "metadata": {
    "vscode": {
     "languageId": "plaintext"
    }
   },
   "outputs": [],
   "source": [
    "# Load the CSV file\n",
    "file_path = \"store_inventory.csv\"\n",
    "data = pd.read_csv(file_path)"
   ]
  },
  {
   "cell_type": "code",
   "execution_count": null,
   "metadata": {
    "vscode": {
     "languageId": "plaintext"
    }
   },
   "outputs": [],
   "source": [
    "# Basic Info\n",
    "print(\"Basic Information\")\n",
    "basic_info = {\n",
    "    \"Total Products\": data.shape[0],\n",
    "    \"Categories\": data[\"Category\"].nunique(),\n",
    "    \"Suppliers\": data[\"Supplier\"].nunique(),\n",
    "    \"Average Price\": data[\"Price\"].mean(),\n",
    "    \"Average Stock\": data[\"Stock\"].mean()\n",
    "}\n",
    "print(basic_info)"
   ]
  },
  {
   "cell_type": "code",
   "execution_count": null,
   "metadata": {
    "vscode": {
     "languageId": "plaintext"
    }
   },
   "outputs": [],
   "source": [
    "# Analysis: Products by Supplier\n",
    "supplier_distribution = data[\"Supplier\"].value_counts()"
   ]
  },
  {
   "cell_type": "code",
   "execution_count": null,
   "metadata": {
    "vscode": {
     "languageId": "plaintext"
    }
   },
   "outputs": [],
   "source": [
    "# Analysis: Price and Stock Extremes\n",
    "most_expensive = data.loc[data[\"Price\"].idxmax()]\n",
    "least_expensive = data.loc[data[\"Price\"].idxmin()]\n",
    "high_stock = data.loc[data[\"Stock\"].idxmax()]\n",
    "low_stock = data.loc[data[\"Stock\"].idxmin()]\n",
    "\n",
    "print(\"Most Expensive Product:\", most_expensive)\n",
    "print(\"Least Expensive Product:\", least_expensive)\n",
    "print(\"Highest Stock Product:\", high_stock)\n",
    "print(\"Lowest Stock Product:\", low_stock)"
   ]
  },
  {
   "cell_type": "code",
   "execution_count": null,
   "metadata": {
    "vscode": {
     "languageId": "plaintext"
    }
   },
   "outputs": [],
   "source": [
    "# Correlation Analysis\n",
    "correlation = data[[\"Price\", \"Stock\"]].corr()"
   ]
  }
 ],
 "metadata": {
  "language_info": {
   "name": "python"
  }
 },
 "nbformat": 4,
 "nbformat_minor": 2
}
