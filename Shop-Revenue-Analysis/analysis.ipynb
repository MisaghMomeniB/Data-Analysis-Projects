{
 "cells": [
  {
   "cell_type": "code",
   "execution_count": null,
   "metadata": {
    "vscode": {
     "languageId": "plaintext"
    }
   },
   "outputs": [],
   "source": [
    "import pandas as pd\n",
    "import matplotlib.pyplot as plt\n",
    "import seaborn as sns"
   ]
  },
  {
   "cell_type": "code",
   "execution_count": null,
   "metadata": {
    "vscode": {
     "languageId": "plaintext"
    }
   },
   "outputs": [],
   "source": [
    "# Load the CSV file\n",
    "file_path = \"store_inventory.csv\"\n",
    "data = pd.read_csv(file_path)"
   ]
  },
  {
   "cell_type": "code",
   "execution_count": null,
   "metadata": {
    "vscode": {
     "languageId": "plaintext"
    }
   },
   "outputs": [],
   "source": [
    "# Basic Info\n",
    "print(\"Basic Information\")\n",
    "basic_info = {\n",
    "    \"Total Products\": data.shape[0],\n",
    "    \"Categories\": data[\"Category\"].nunique(),\n",
    "    \"Suppliers\": data[\"Supplier\"].nunique(),\n",
    "    \"Average Price\": data[\"Price\"].mean(),\n",
    "    \"Average Stock\": data[\"Stock\"].mean()\n",
    "}\n",
    "print(basic_info)"
   ]
  }
 ],
 "metadata": {
  "language_info": {
   "name": "python"
  }
 },
 "nbformat": 4,
 "nbformat_minor": 2
}
